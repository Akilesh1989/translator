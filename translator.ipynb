{
 "cells": [
  {
   "cell_type": "code",
   "execution_count": 1,
   "metadata": {},
   "outputs": [
    {
     "name": "stdout",
     "output_type": "stream",
     "text": [
      "Collecting pytesseract\n",
      "  Downloading https://files.pythonhosted.org/packages/17/4b/4dbd55388225bb6cd243d21f70e77cb3ce061e241257485936324b8e920f/pytesseract-0.3.6.tar.gz\n",
      "Requirement already satisfied: Pillow in /Users/akilesh/.pyenv/versions/3.8.3/lib/python3.8/site-packages (from pytesseract) (7.2.0)\n",
      "Building wheels for collected packages: pytesseract\n",
      "  Building wheel for pytesseract (setup.py) ... \u001b[?25ldone\n",
      "\u001b[?25h  Created wheel for pytesseract: filename=pytesseract-0.3.6-py2.py3-none-any.whl size=13629 sha256=63ae6de1564cf22b49e0bb97e3878833993cd6432c379351abb7cf60c560770e\n",
      "  Stored in directory: /Users/akilesh/Library/Caches/pip/wheels/ee/71/72/b98430261d849ae631e283dfc7ccb456a3fb2ed2205714b63f\n",
      "Successfully built pytesseract\n",
      "Installing collected packages: pytesseract\n",
      "Successfully installed pytesseract-0.3.6\n",
      "\u001b[33mWARNING: You are using pip version 19.2.3, however version 20.3.1 is available.\n",
      "You should consider upgrading via the 'pip install --upgrade pip' command.\u001b[0m\n"
     ]
    }
   ],
   "source": [
    "!pip install pytesseract"
   ]
  },
  {
   "cell_type": "code",
   "execution_count": 2,
   "metadata": {},
   "outputs": [],
   "source": [
    "import re"
   ]
  },
  {
   "cell_type": "code",
   "execution_count": 3,
   "metadata": {},
   "outputs": [],
   "source": [
    "import cv2"
   ]
  },
  {
   "cell_type": "code",
   "execution_count": 14,
   "metadata": {},
   "outputs": [],
   "source": []
  },
  {
   "cell_type": "code",
   "execution_count": 15,
   "metadata": {},
   "outputs": [],
   "source": [
    "import matplotlib.pyplot as plt"
   ]
  },
  {
   "cell_type": "code",
   "execution_count": 16,
   "metadata": {},
   "outputs": [
    {
     "data": {
      "image/png": "[encoded data removed]",
      "text/plain": [
       "<Figure size 432x288 with 1 Axes>"
      ]
     },
     "metadata": {
      "needs_background": "light"
     },
     "output_type": "display_data"
    }
   ],
   "source": [
    "plt.imshow(image)\n",
    "plt.show()"
   ]
  },
  {
   "cell_type": "code",
   "execution_count": null,
   "metadata": {},
   "outputs": [],
   "source": [
    "text = pytessearct.image_to_string(image, lang)"
   ]
  },
  {
   "cell_type": "code",
   "execution_count": 17,
   "metadata": {},
   "outputs": [
    {
     "name": "stdout",
     "output_type": "stream",
     "text": [
      "Collecting textblob\n",
      "\u001b[?25l  Downloading https://files.pythonhosted.org/packages/60/f0/1d9bfcc8ee6b83472ec571406bd0dd51c0e6330ff1a51b2d29861d389e85/textblob-0.15.3-py2.py3-none-any.whl (636kB)\n",
      "\u001b[K     |████████████████████████████████| 645kB 2.0MB/s eta 0:00:01\n",
      "\u001b[?25hCollecting nltk>=3.1 (from textblob)\n",
      "\u001b[?25l  Downloading https://files.pythonhosted.org/packages/92/75/ce35194d8e3022203cca0d2f896dbb88689f9b3fce8e9f9cff942913519d/nltk-3.5.zip (1.4MB)\n",
      "\u001b[K     |████████████████████████████████| 1.4MB 6.8MB/s eta 0:00:01\n",
      "\u001b[?25hRequirement already satisfied: click in /Users/akilesh/.pyenv/versions/3.8.3/lib/python3.8/site-packages (from nltk>=3.1->textblob) (7.1.2)\n",
      "Requirement already satisfied: joblib in /Users/akilesh/.pyenv/versions/3.8.3/lib/python3.8/site-packages (from nltk>=3.1->textblob) (0.17.0)\n",
      "Collecting regex (from nltk>=3.1->textblob)\n",
      "\u001b[?25l  Downloading https://files.pythonhosted.org/packages/19/6e/26b701f309a6eedd28afa4eda798a73a12467598077c2e7b22943ab8e827/regex-2020.11.13-cp38-cp38-macosx_10_9_x86_64.whl (284kB)\n",
      "\u001b[K     |████████████████████████████████| 286kB 7.6MB/s eta 0:00:01\n",
      "\u001b[?25hRequirement already satisfied: tqdm in /Users/akilesh/.pyenv/versions/3.8.3/lib/python3.8/site-packages (from nltk>=3.1->textblob) (4.51.0)\n",
      "Building wheels for collected packages: nltk\n",
      "  Building wheel for nltk (setup.py) ... \u001b[?25ldone\n",
      "\u001b[?25h  Created wheel for nltk: filename=nltk-3.5-cp38-none-any.whl size=1434677 sha256=fe6e7aa8d5c255c73557443c52940f8244a158e373463536ea057521f68f756f\n",
      "  Stored in directory: /Users/akilesh/Library/Caches/pip/wheels/ae/8c/3f/b1fe0ba04555b08b57ab52ab7f86023639a526d8bc8d384306\n",
      "Successfully built nltk\n",
      "Installing collected packages: regex, nltk, textblob\n",
      "Successfully installed nltk-3.5 regex-2020.11.13 textblob-0.15.3\n",
      "\u001b[33mWARNING: You are using pip version 19.2.3, however version 20.3.1 is available.\n",
      "You should consider upgrading via the 'pip install --upgrade pip' command.\u001b[0m\n"
     ]
    }
   ],
   "source": [
    "!pip install textblob"
   ]
  },
  {
   "cell_type": "code",
   "execution_count": 18,
   "metadata": {},
   "outputs": [],
   "source": [
    "from textblob import TextBlob\n",
    "import pytesseract\n",
    "import cv2"
   ]
  },
  {
   "cell_type": "code",
   "execution_count": 19,
   "metadata": {},
   "outputs": [],
   "source": [
    "image = cv2.imread(\"kural_1.png\")\n",
    "rgb = cv2.cvtColor(image, cv2.COLOR_BGR2RGB)"
   ]
  },
  {
   "cell_type": "code",
   "execution_count": 20,
   "metadata": {},
   "outputs": [
    {
     "data": {
      "image/png": "[encoded data removed]",
      "text/plain": [
       "<Figure size 432x288 with 1 Axes>"
      ]
     },
     "metadata": {
      "needs_background": "light"
     },
     "output_type": "display_data"
    }
   ],
   "source": [
    "plt.imshow(rgb)\n",
    "plt.show()"
   ]
  },
  {
   "cell_type": "code",
   "execution_count": 24,
   "metadata": {},
   "outputs": [],
   "source": [
    "!export TESSDATA_PREFIX=\"/Users/akilesh/Documents/personal/projects/translator/tessdata\""
   ]
  },
  {
   "cell_type": "code",
   "execution_count": 28,
   "metadata": {},
   "outputs": [],
   "source": [
    "import os\n",
    "os.environ['TESSDATA_PREFIX'] = \"/Users/akilesh/Documents/personal/projects/translator/tessdata\""
   ]
  },
  {
   "cell_type": "code",
   "execution_count": 29,
   "metadata": {},
   "outputs": [
    {
     "data": {
      "text/plain": [
       "'/Users/akilesh/Documents/personal/projects/translator/tessdata'"
      ]
     },
     "execution_count": 29,
     "metadata": {},
     "output_type": "execute_result"
    }
   ],
   "source": [
    "os.environ.get('TESSDATA_PREFIX')"
   ]
  },
  {
   "cell_type": "code",
   "execution_count": 48,
   "metadata": {},
   "outputs": [
    {
     "data": {
      "text/plain": [
       "'தமிழ்\\u200c மொழிக்கு வளமை சேர்த்த ஒரு நூல்\\u200c; தமிழர்க்கு\\n\\x0c'"
      ]
     },
     "execution_count": 48,
     "metadata": {},
     "output_type": "execute_result"
    }
   ],
   "source": [
    "options = \"-l tam --psm 4\"\n",
    "text = pytesseract.image_to_string(rgb, config=options)\n",
    "text"
   ]
  },
  {
   "cell_type": "code",
   "execution_count": 40,
   "metadata": {},
   "outputs": [
    {
     "name": "stdout",
     "output_type": "stream",
     "text": [
      "தமிம்‌ மொழிக்கு வளமை சேர்த்த ஒரு நல்‌; தமிழர்க்கு.\n",
      "\f",
      "\n"
     ]
    }
   ],
   "source": [
    "print(text)"
   ]
  },
  {
   "cell_type": "code",
   "execution_count": 36,
   "metadata": {},
   "outputs": [
    {
     "data": {
      "text/plain": [
       "TextBlob(\"A book that enriched the Tamil language; For Tamils\")"
      ]
     },
     "execution_count": 36,
     "metadata": {},
     "output_type": "execute_result"
    }
   ],
   "source": [
    "tb = TextBlob(text)\n",
    "translated = tb.translate(to='eng')\n",
    "translated"
   ]
  },
  {
   "cell_type": "markdown",
   "metadata": {},
   "source": [
    "Page segmentation modes:\n",
    "\n",
    "0    Orientation and script detection (OSD) only.\n",
    "\n",
    "1    Automatic page segmentation with OSD.\n",
    "\n",
    "2    Automatic page segmentation, but no OSD, or OCR.\n",
    "\n",
    "3    Fully automatic page segmentation, but no OSD. (Default)\n",
    "  4    Assume a single column of text of variable sizes.\n",
    "  5    Assume a single uniform block of vertically aligned text.\n",
    "  6    Assume a single uniform block of text.\n",
    "  7    Treat the image as a single text line.\n",
    "  8    Treat the image as a single word.\n",
    "  9    Treat the image as a single word in a circle.\n",
    " 10    Treat the image as a single character.\n",
    " 11    Sparse text. Find as much text as possible in no particular order.\n",
    " 12    Sparse text with OSD.\n",
    " 13    Raw line. Treat the image as a single text line,\n",
    "                        bypassing hacks that are Tesseract-specific."
   ]
  },
  {
   "cell_type": "code",
   "execution_count": 70,
   "metadata": {},
   "outputs": [],
   "source": [
    "# translate full image\n",
    "image = cv2.imread(\"pn_p1.png\")\n",
    "rgb = cv2.cvtColor(image, cv2.COLOR_BGR2RGB)"
   ]
  },
  {
   "cell_type": "code",
   "execution_count": 71,
   "metadata": {},
   "outputs": [],
   "source": [
    "options = \"-l tam pcm=1\"\n",
    "text = pytesseract.image_to_string(rgb, config=options)"
   ]
  },
  {
   "cell_type": "code",
   "execution_count": 72,
   "metadata": {},
   "outputs": [
    {
     "name": "stdout",
     "output_type": "stream",
     "text": [
      "அத்தியாயம்‌ 1 - ஆடித்திருநாள்‌\n",
      "\n",
      "ஆதி அந்தமில்லாத கால வெள்ளத்தில்‌ கற்பனை ஓடத்தில்‌ ஏறி நம்முடன்‌ சிறிது நேரம்‌\n",
      "பிரயாணம்‌ செய்யுமாறு நேயர்களை அழைக்கிறோம்‌. விநாடிக்கு ஒரு நூற்றாண்டு வீதம்‌ எளிதில்‌\n",
      "கடந்து இன்றைக்குத்‌ தொள்ளாயிரத்து எண்பத்திரண்டு (1950ல்‌ எழுதியது) ஆண்டுகளுக்கு\n",
      "முந்திய காலத்துக்குச்‌ செல்வோமாக.\n",
      "\n",
      "தொண்டை நாட்டுக்கும்‌ சோழ நாட்டுக்கும்‌ இடையில்‌ உள்ள திருமுனைப்பாடி நாட்டின்‌\n",
      "தென்பகுதியில்‌, தில்லைச்‌ சிற்றம்பலத்துக்கு மேற்கே இரண்டு காததூரத்தில்‌, அலை கடல்‌\n",
      "போன்ற ஓர்‌ ஏரி விரிந்து பரந்து கிடக்கிறது. அதற்கு வீரநாராயண ஏரி என்று பெயர்‌. அது\n",
      "தெற்கு வடக்கில்‌ ஒன்றரைக்‌ காத நீளமும்‌ கிழக்கு மேற்கில்‌ அரைக்‌ காத அகலமும்‌ உள்ளது.\n",
      "காலப்போக்கில்‌ அதன்‌ பெயர்‌ சிதைந்து இந்நாளில்‌ 'வீராணத்து ஏரி' என்ற பெயரால்‌ வழங்கி\n",
      "வருகிறது.புது வெள்ளம்‌ வந்து பாய்ந்து ஏரியில்‌ நீர்‌ நிரம்பித்‌ ததும்பி நிற்கும்‌ ஆடி ஆவணி\n",
      "மாதங்களில்‌ வீரநாராயண ஏரியைப்‌ பார்ப்பவர்‌ எவரும்‌ நம்முடைய பழந்தமிழ்‌ நாட்டு\n",
      "முன்னோர்கள்‌ தங்கள்‌ காலத்தில்‌ சாதித்த அரும்பெரும்‌ காரியங்களைக்‌ குறித்துப்‌\n",
      "பெருமிதமும்‌ பெரு வியப்பும்‌ கொள்ளாமலிருக்க முடியாது. நம்‌ மூதாதையர்கள்‌ தங்களுடைய\n",
      "நலனுக்கும்‌ தங்கள்‌ காலத்திய மக்களின்‌ நலனுக்கும்‌ உரிய காரியங்களை மட்டுமா\n",
      "செய்தார்கள்‌? தாய்த்‌ திருநாட்டில்‌ தங்களுக்குப்‌ பிற்காலத்தில்‌ வாழையடி வாழையாக\n",
      "வரப்போகும்‌ ஆயிரங்கால சந்ததிகளுக்கும்‌ நன்மை பயக்கும்‌ மாபெரும்‌ செயல்களை\n",
      "நிறைவேற்றி விட்டூப்‌ போனார்கள்‌ அல்லவா?\n",
      "\n",
      "ஆடித்‌ திங்கள்‌ பதினெட்டாம்‌ நாள்‌ முன்‌ மாலை நேரத்தில்‌ அலை கடல்‌ போல்‌ விரிந்து\n",
      "பரந்திருந்த வீர நாராயண ஏரிக்கரை மீது ஒரு வாலிப வீரன்‌ குதிரை ஏறிப்‌ பிரயாணம்‌ செய்து\n",
      "கொண்டிருந்தான்‌. அவன்‌ தமிழகத்து வீர சரித்திரத்தில்‌ புகழ்பெற்ற வாணர்‌ குலத்தைச்‌\n",
      "சேர்ந்தவன்‌. வல்லவரையன்‌ வந்தியத்தேவன்‌ என்பது அவன்‌ பெயர்‌. நெடூந்தூரம்‌ பிரயாணம்‌\n",
      "செய்து அலுத்துக்களைத்திருந்த அவனுடைய குதிரை மெள்ள மெள்ள நடந்து சென்று\n",
      "கொண்டிருந்தது. அதைப்‌ பற்றி அந்த இளம்‌ வீரன்‌ கவலைப்படவில்லை. அகண்டமான அவன்‌\n",
      "வீர நாராயண ஏரியின்‌ தோற்றம்‌ அவன்‌ உள்ளத்தை அவ்வளவாக வசீகரித்திருந்தது.\n",
      "\n",
      "ஆடிப்‌ பதினெட்டாம்‌ பெருக்கன்று சோழநாட்டு நதிகளிலெல்லாம்‌ வெள்ளம்‌\n",
      "இருகரையும்தொட்டுக்‌ கொண்டு ஓடுவது வழக்கம்‌. அந்த நதிகளிலிருந்து தண்ணீர்‌ பெறும்‌\n",
      "ஏரிகளும்‌ பூரணமாக நிரம்பிக்‌ கரையின்‌ உச்சியைத்‌ தொட்டுக்‌ கொண்டு அலைமோதிக்‌\n",
      "கொண்டிருப்பது வழக்கம்‌. வட காவேரி என்று பக்தர்களாலும்‌ கொள்ளிடம்‌ என்று பொது\n",
      "மக்களாலும்‌ வழங்கப்பட்ட நதியிலிருந்து வடவாற்றின்‌ வழியாகத்‌ தண்ணீர்‌ வந்து வீர நாராயண\n",
      "ஏரியில்‌ பாய்ந்து அதை ஒரு பொங்கும்‌ கடலாக ஆக்கியிருந்தது. அந்த ஏரியின்‌ எழுபத்து\n",
      "நான்கு கணவாய்களின்‌ வழியாகவும்‌ தண்ணீர்‌ குமுகுமுவென்று பாய்ந்து சுற்றுப்‌ பக்கத்தில்‌\n",
      "நெடுந்தூரத்துக்கு நீர்வளத்தை அளித்துக்‌ கொண்டிருந்தது. அந்த ஏரித்‌ தண்ணீரைக்‌ கொண்டு\n",
      "\f",
      "\n"
     ]
    }
   ],
   "source": [
    "x = re.sub(r'\\n{2, 10}', '\\n', text)\n",
    "print(x.rstrip(\"\\n\"))"
   ]
  },
  {
   "cell_type": "code",
   "execution_count": 75,
   "metadata": {
    "scrolled": true
   },
   "outputs": [],
   "source": [
    "tb = TextBlob(text)\n",
    "eng = tb.translate(to='eng')"
   ]
  },
  {
   "cell_type": "code",
   "execution_count": 74,
   "metadata": {},
   "outputs": [
    {
     "data": {
      "text/plain": [
       "TextBlob(\"Chapter 1 - Playing Day\n",
       "\n",
       "Adi climbs the imaginary stream in the endless flood of time with us for a while\n",
       "We invite Nairs to travel‌. A century rate per second க்கு Easily‌\n",
       "Nineteen eighty-two years ago (written in 1950)\n",
       "Let's go back to the past.\n",
       "\n",
       "Thirumunaippadi Nadu between Thondai Nadu and Chola Nadu\n",
       "In the south, two ears west of the Thillai Chirambal, the tidal sea\n",
       "Such a lake is sprawling. It is called Veeranarayana Lake. It\n",
       "The south is one-half the length of the north and the east is half the width of the west.\n",
       "Over time its name was distorted and given the name 'Veeranathu Lake' to this day\n",
       "The new flood is coming and the lake is overflowing with water.\n",
       "Anyone who visits Veeranarayana Lake in months is our native Tamil country\n",
       "Regarding the great things that the ancestors achieved in their time\n",
       "Proud and amazed cannot be without. Our ancestors were theirs\n",
       "Only things that are in the best interest of the people of their time\n",
       "Did ‌? In the motherland they later became bananas under the bananas\n",
       "Great deeds that will benefit thousands of future generations\n",
       "Aren't they fulfilled?\n",
       "\n",
       "In the evening before the eighteenth day of the month of August, the waves spread like the sea\n",
       "A young warrior rides a horse across the vast Veera Narayana Lake.\n",
       "Had‌. He belongs to the famous monkey clan in the heroic history of Tamil Nadu\n",
       "Belonging to ‌. His name is Vallavarayan Vandiyathevan. Long distance travel\n",
       "His horse, tired of doing so, walked slowly\n",
       "Had. That young warrior did not care about that. He is immense\n",
       "The appearance of Veera Narayana Lake fascinated him.\n",
       "\n",
       "The eighteenth flood of Adip flooded all the rivers of Chola\n",
       "It is customary to run with both hands touching. Water will be received from those rivers\n",
       "The lakes are completely filled and the waves hit the top of the shore.\n",
       "It is customary to have‌. North Kaveri is also known as Kollidam by the devotees\n",
       "Veera Narayana, the water came from the river provided by the people through Vadavar\n",
       "It flowed into the lake and made it into a raging sea. Seventy of that lake\n",
       "Water gushes through the four passes and flows around\n",
       "Providing water for long distances. With that lake water\")"
      ]
     },
     "execution_count": 74,
     "metadata": {},
     "output_type": "execute_result"
    }
   ],
   "source": [
    "eng"
   ]
  },
  {
   "cell_type": "code",
   "execution_count": 68,
   "metadata": {},
   "outputs": [
    {
     "data": {
      "text/plain": [
       "\"Introduction\\n\\nA book that enriched the Tamil language; For Tamils\\nA book that conveys the facts of life; தன்\\u200c\\nTamil Nadu is world famous for its origins\\nThe best book ever, Thiruvalluvar's Thirukkural!\\nThere is no nonsense about Thirukkural; Unwritten scholar\\u200c,\\nWriter\\u200c No.\\nThirukkural is also read during the school season. Season\\u200c\\nAs it grows, it is also taught as a technique. Within it\\nThat's the best\\u200c. It's for all seasons\\nSublime thread\\u200c.\\nThiruvalluvar Siddhar; All Wisdom\\u200c Clear Sage; World\\u200c\\nUyyum\\u200c type assisted benefactor\\u200c; Approximately 2000\\nWho lived years ago\\u200c.\\nMany speechwriters for Thirukkural. Old\\nThe narrator is ten; How many came later\\nPeople\\u200c. By the meaning of their texts\\nThere are many things that are better than speech.\\nதிருக்குறளில்லாத தமிழர்\\u200c வீடு இருக்கக்கூடாது! திருக்குறள்\\u200c\\nThere should be no unworthy Tamils!\\nIt is with this in mind that I wrote this new text\\nTriggered.\\nPrint this beautifully and let everyone know\\nPoompukar Publishers\\nThank you for their love; My congratulations on the effort.\\nTwo hundred copies for all the Tamils\\nIf there is a situation, that is good for my work\\nWill be useful\\u200c.\\n\\nLong live Tamil! வளர்க குறள்நெறி !!\""
      ]
     },
     "execution_count": 68,
     "metadata": {},
     "output_type": "execute_result"
    }
   ],
   "source": [
    "eng.string"
   ]
  },
  {
   "cell_type": "code",
   "execution_count": null,
   "metadata": {},
   "outputs": [],
   "source": []
  }
 ],
 "metadata": {
  "kernelspec": {
   "display_name": "Python 3",
   "language": "python",
   "name": "python3"
  },
  "language_info": {
   "codemirror_mode": {
    "name": "ipython",
    "version": 3
   },
   "file_extension": ".py",
   "mimetype": "text/x-python",
   "name": "python",
   "nbconvert_exporter": "python",
   "pygments_lexer": "ipython3",
   "version": "3.8.3"
  }
 },
 "nbformat": 4,
 "nbformat_minor": 4
}
